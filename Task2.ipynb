{
 "cells": [
  {
   "cell_type": "markdown",
   "source": [
    "[Github Repo for task 2](https://github.com/gagan3512/Webscrapping-task2-georgeBrown)\n",
    "\n",
    "Done by:\n",
    "- Gugan Tuli\n",
    "- Mustafa Osta"
   ],
   "metadata": {
    "collapsed": false
   },
   "id": "cbdd90f480783763"
  },
  {
   "cell_type": "code",
   "execution_count": null,
   "outputs": [],
   "source": [],
   "metadata": {
    "collapsed": false
   },
   "id": "59ed9dacafbed441"
  }
 ],
 "metadata": {
  "kernelspec": {
   "display_name": "Python 3 (ipykernel)",
   "language": "python",
   "name": "python3"
  },
  "language_info": {
   "codemirror_mode": {
    "name": "ipython",
    "version": 3
   },
   "file_extension": ".py",
   "mimetype": "text/x-python",
   "name": "python",
   "nbconvert_exporter": "python",
   "pygments_lexer": "ipython3",
   "version": "3.11.4"
  }
 },
 "nbformat": 4,
 "nbformat_minor": 5
}
